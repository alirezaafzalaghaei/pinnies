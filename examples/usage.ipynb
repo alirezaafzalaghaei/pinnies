{
 "cells": [
  {
   "cell_type": "code",
   "execution_count": 1,
   "id": "6ddd88e5-c93e-42f3-abb4-1e4c9cad9979",
   "metadata": {
    "execution": {
     "iopub.execute_input": "2024-09-02T21:40:43.819110Z",
     "iopub.status.busy": "2024-09-02T21:40:43.818966Z",
     "iopub.status.idle": "2024-09-02T21:40:44.576007Z",
     "shell.execute_reply": "2024-09-02T21:40:44.575454Z",
     "shell.execute_reply.started": "2024-09-02T21:40:43.819092Z"
    }
   },
   "outputs": [],
   "source": [
    "import numpy as np\n",
    "import torch\n",
    "from pinnies import *\n",
    "from torch import nn"
   ]
  },
  {
   "cell_type": "code",
   "execution_count": 2,
   "id": "220a296e-af07-444b-b453-d8047b5736e4",
   "metadata": {
    "execution": {
     "iopub.execute_input": "2024-09-02T21:40:47.213146Z",
     "iopub.status.busy": "2024-09-02T21:40:47.212692Z",
     "iopub.status.idle": "2024-09-02T21:40:47.815093Z",
     "shell.execute_reply": "2024-09-02T21:40:47.814270Z",
     "shell.execute_reply.started": "2024-09-02T21:40:47.213107Z"
    }
   },
   "outputs": [
    {
     "name": "stderr",
     "output_type": "stream",
     "text": [
      "Validation: 3.54e-01: 100%|████████████████████████████████████████████████████████████████████████████████████████████| 10/10 [00:00<00:00, 460.57it/s]\n",
      "Validation: 3.28e-04: 100%|█████████████████████████████████████████████████████████████████████████████████████████████| 10/10 [00:00<00:00, 41.62it/s]\n"
     ]
    },
    {
     "data": {
      "text/plain": [
       "tensor(0.0003)"
      ]
     },
     "execution_count": 2,
     "metadata": {},
     "output_type": "execute_result"
    }
   ],
   "source": [
    "class Problem(Fredholm1D):\n",
    "    def __init__(self, domain, num_train, model):\n",
    "        super().__init__(domain, num_train)\n",
    "        self.a, self.b = domain\n",
    "        self.model = model\n",
    "        self.F = torch.exp(self.x) + self.x - 4 / 3\n",
    "        self.K = self.T\n",
    "\n",
    "    def residual(self):\n",
    "        y = self.predict(self.x)\n",
    "        zeta = y\n",
    "        I = self.quad(self.K.T * zeta, self.a, self.b)\n",
    "        return [y - I - self.F]\n",
    "\n",
    "    def exact(self, x):\n",
    "        # For validation\n",
    "        return x + torch.exp(x)\n",
    "\n",
    "\n",
    "set_seed(42)\n",
    "\n",
    "model = nn.Sequential(\n",
    "    nn.Linear(1, 10),\n",
    "    nn.Tanh(),\n",
    "    nn.Linear(10, 1),\n",
    ")\n",
    "\n",
    "p = Problem([0, 1], 30, model)\n",
    "p.solve(10)"
   ]
  },
  {
   "cell_type": "code",
   "execution_count": 5,
   "id": "ebe982d5-1132-4f2e-a272-e94d98cd5d39",
   "metadata": {
    "execution": {
     "iopub.execute_input": "2024-09-02T21:41:15.687980Z",
     "iopub.status.busy": "2024-09-02T21:41:15.687533Z",
     "iopub.status.idle": "2024-09-02T21:41:16.133236Z",
     "shell.execute_reply": "2024-09-02T21:41:16.132649Z",
     "shell.execute_reply.started": "2024-09-02T21:41:15.687923Z"
    }
   },
   "outputs": [
    {
     "name": "stderr",
     "output_type": "stream",
     "text": [
      "Validation: 4.15e-01: 100%|████████████████████████████████████████████████████████████████████████████████████████████| 10/10 [00:00<00:00, 293.68it/s]\n",
      "Validation: 1.82e-04: 100%|█████████████████████████████████████████████████████████████████████████████████████████████| 10/10 [00:00<00:00, 25.82it/s]\n"
     ]
    },
    {
     "data": {
      "text/plain": [
       "tensor(0.0002)"
      ]
     },
     "execution_count": 5,
     "metadata": {},
     "output_type": "execute_result"
    }
   ],
   "source": [
    "class Problem(Volterra1D):\n",
    "    def __init__(self, domain, num_train, model):\n",
    "        super().__init__(domain, num_train)\n",
    "        self.a, self.b = domain\n",
    "        self.model = model\n",
    "        self.K = torch.exp(self.T - self.X)\n",
    "        self.zero = torch.tensor([[0.0]])\n",
    "\n",
    "    def residual(self):\n",
    "        y = self.predict(self.x)\n",
    "        y_x = self.diff(y, self.x, n=1)\n",
    "\n",
    "        u_t = self.predict_on_T()\n",
    "        zeta = u_t\n",
    "        I = self.quad(self.K * zeta, self.a, self.x)\n",
    "\n",
    "        initial = self.get_initial()\n",
    "        return [y_x + y - I, initial]\n",
    "\n",
    "    def get_initial(self):\n",
    "        return self.predict(self.zero) - (1)\n",
    "\n",
    "    def exact(self, x):\n",
    "        # For validation\n",
    "        return torch.exp(-x) * torch.cosh(x)\n",
    "\n",
    "\n",
    "set_seed(42)\n",
    "\n",
    "model = nn.Sequential(\n",
    "    nn.Linear(1, 10),\n",
    "    nn.Tanh(),\n",
    "    nn.Linear(10, 10),\n",
    "    nn.Tanh(),\n",
    "    nn.Linear(10, 1),\n",
    ")\n",
    "\n",
    "p2 = Problem((0, 5), 10, model)\n",
    "p2.solve(10, learning_rate=0.3)"
   ]
  },
  {
   "cell_type": "code",
   "execution_count": 8,
   "id": "a90ff952-238a-459e-89b0-1ff5b397863a",
   "metadata": {
    "execution": {
     "iopub.execute_input": "2024-09-02T21:42:09.502545Z",
     "iopub.status.busy": "2024-09-02T21:42:09.502212Z",
     "iopub.status.idle": "2024-09-02T21:42:19.279379Z",
     "shell.execute_reply": "2024-09-02T21:42:19.278753Z",
     "shell.execute_reply.started": "2024-09-02T21:42:09.502520Z"
    }
   },
   "outputs": [
    {
     "name": "stderr",
     "output_type": "stream",
     "text": [
      "Validation: 1.75e-02: 100%|██████████████████████████████████████████████████████████████████████████████████████████| 100/100 [00:00<00:00, 145.11it/s]\n",
      "Validation: 4.35e-04: 100%|███████████████████████████████████████████████████████████████████████████████████████████| 100/100 [00:09<00:00, 11.03it/s]\n"
     ]
    },
    {
     "data": {
      "text/plain": [
       "tensor(0.0003)"
      ]
     },
     "execution_count": 8,
     "metadata": {},
     "output_type": "execute_result"
    }
   ],
   "source": [
    "class Problem(Fredholm2D):\n",
    "    def __init__(self, domain, num_train, model):\n",
    "        super().__init__(domain, num_train)\n",
    "        self.a, self.b = domain[0]\n",
    "        self.c, self.d = domain[1]\n",
    "        self.model = mlp\n",
    "        source = lambda x, y: (x**2 * y) + ((4 / 9) * x)\n",
    "        self.F = source(self.x[:, 0], self.x[:, 1]).reshape(self.N, self.N)\n",
    "        self.K = -(1 / 2 * self.X * self.T)\n",
    "\n",
    "    def residual(self):\n",
    "        y = self.predict(self.x).reshape(self.N, self.N)\n",
    "        zeta = y\n",
    "\n",
    "        I = self.quad(self.K * zeta, self.c, self.d)\n",
    "        I = self.quad(I, self.a, self.b)\n",
    "        return [y - I - self.F]\n",
    "\n",
    "    def exact(self, X):\n",
    "        # For validation\n",
    "        x, y = X[:, 0], X[:, 1]\n",
    "        return x**2 * y\n",
    "\n",
    "\n",
    "set_seed(42)\n",
    "\n",
    "mlp = nn.Sequential(\n",
    "    nn.Linear(2, 10),\n",
    "    nn.Tanh(),\n",
    "    nn.Linear(10, 10),\n",
    "    nn.Tanh(),\n",
    "    nn.Linear(10, 1),\n",
    ")\n",
    "\n",
    "p1 = Problem([(0, 1), (0, 2)], 25, mlp)\n",
    "p1.solve(100)"
   ]
  },
  {
   "cell_type": "code",
   "execution_count": 12,
   "id": "0fe6c29d-3c19-4500-94ae-2a5ab5c327e2",
   "metadata": {
    "execution": {
     "iopub.execute_input": "2024-09-02T21:43:23.230883Z",
     "iopub.status.busy": "2024-09-02T21:43:23.230454Z",
     "iopub.status.idle": "2024-09-02T21:43:28.349850Z",
     "shell.execute_reply": "2024-09-02T21:43:28.348795Z",
     "shell.execute_reply.started": "2024-09-02T21:43:23.230851Z"
    }
   },
   "outputs": [
    {
     "name": "stderr",
     "output_type": "stream",
     "text": [
      "Validation: 4.95e-01: 100%|█████████████████████████████████████████████████████████████████████████████████████████████| 20/20 [00:00<00:00, 71.23it/s]\n",
      "Validation: 1.20e-02: 100%|█████████████████████████████████████████████████████████████████████████████████████████████| 20/20 [00:04<00:00,  4.16it/s]\n"
     ]
    },
    {
     "data": {
      "text/plain": [
       "tensor(0.0052)"
      ]
     },
     "execution_count": 12,
     "metadata": {},
     "output_type": "execute_result"
    }
   ],
   "source": [
    "class Problem(Volterra2D):\n",
    "    def __init__(self, domain, num_train, model):\n",
    "        super().__init__(domain, num_train)\n",
    "        self.a, self.b = domain[0]\n",
    "        self.c, self.d = domain[1]\n",
    "        self.model = mlp\n",
    "        source = lambda x, y: (\n",
    "            x\n",
    "            + y\n",
    "            + torch.exp(x + y)\n",
    "            * (\n",
    "                x * torch.exp(x + y)\n",
    "                + y * torch.exp(x + y)\n",
    "                - 2 * torch.exp(x + y)\n",
    "                - torch.exp(x) * x\n",
    "                - torch.exp(y) * y\n",
    "                + 2 * torch.exp(x)\n",
    "                + 2 * torch.exp(y)\n",
    "                - 2\n",
    "            )\n",
    "        )\n",
    "        self.F = source(self.x[:, 0], self.x[:, 1]).reshape(self.N, self.N)\n",
    "        self.K = torch.exp(self.S + self.T) * torch.exp(self.X + self.Y)\n",
    "\n",
    "    def residual(self):\n",
    "        y = self.predict(self.x).reshape(self.N, self.N)\n",
    "        zeta = self.predict_on_ST()\n",
    "\n",
    "        I = self.quad(self.K * zeta, self.c, self.bdy)\n",
    "\n",
    "        I = self.quad(I.permute(2, 1, 0), self.a, self.bdx.reshape(1, -1))\n",
    "\n",
    "        return [y + I - self.F]\n",
    "\n",
    "    def exact(self, X):\n",
    "        # For validation\n",
    "        x, y = X[:, 0], X[:, 1]\n",
    "        return x + y\n",
    "\n",
    "\n",
    "set_seed(42)\n",
    "\n",
    "mlp = nn.Sequential(\n",
    "    nn.Linear(2, 10),\n",
    "    nn.Tanh(),\n",
    "    nn.Linear(10, 10),\n",
    "    nn.Tanh(),\n",
    "    nn.Linear(10, 1),\n",
    ")\n",
    "\n",
    "p1 = Problem([(0, 1), (0, 2)], 15, mlp)\n",
    "p1.solve(20)"
   ]
  },
  {
   "cell_type": "code",
   "execution_count": 15,
   "id": "5e487f35-ef2f-4c64-a092-8451f02dfb04",
   "metadata": {
    "execution": {
     "iopub.execute_input": "2024-09-02T21:44:30.899695Z",
     "iopub.status.busy": "2024-09-02T21:44:30.899477Z",
     "iopub.status.idle": "2024-09-02T21:44:33.205386Z",
     "shell.execute_reply": "2024-09-02T21:44:33.204604Z",
     "shell.execute_reply.started": "2024-09-02T21:44:30.899682Z"
    }
   },
   "outputs": [
    {
     "name": "stderr",
     "output_type": "stream",
     "text": [
      "Validation: 1.66e+00: 100%|█████████████████████████████████████████████████████████████████████████████████████████████| 10/10 [00:00<00:00, 68.81it/s]\n",
      "Validation: 2.48e-02: 100%|█████████████████████████████████████████████████████████████████████████████████████████████| 10/10 [00:02<00:00,  4.69it/s]\n"
     ]
    },
    {
     "data": {
      "text/plain": [
       "tensor(0.0474)"
      ]
     },
     "execution_count": 15,
     "metadata": {},
     "output_type": "execute_result"
    }
   ],
   "source": [
    "class Problem(Fredholm3D):\n",
    "    def __init__(self, domain, num_train, model):\n",
    "        super().__init__(domain, num_train)\n",
    "        self.a, self.b = domain[0]\n",
    "        self.c, self.d = domain[1]\n",
    "        self.e, self.f = domain[2]\n",
    "\n",
    "        self.model = mlp\n",
    "        source = lambda x, y, z: (\n",
    "            x**2 * y * torch.exp(z) - ((-torch.e + np.exp(2)) * np.exp(-1)) / 2\n",
    "        )\n",
    "        self.F = source(self.x[:, 0], self.x[:, 1], self.x[:, 2]).reshape(\n",
    "            self.N, self.N, self.N\n",
    "        )\n",
    "        self.K = torch.exp(self.S) * self.R\n",
    "\n",
    "    def residual(self):\n",
    "        y = self.predict(self.x).reshape(self.N, self.N, self.N)\n",
    "        zeta = y\n",
    "        I = self.quad(self.K * zeta, self.e, self.f)\n",
    "        I = self.quad(I, self.c, self.d)\n",
    "        I = self.quad(I, self.a, self.b)\n",
    "        return [y - I - self.F]\n",
    "\n",
    "    def exact(self, X):\n",
    "        # For validation\n",
    "        x, y, z = X[:, 0], X[:, 1], X[:, 2]\n",
    "        return x**2 * y * torch.exp(z)\n",
    "\n",
    "\n",
    "set_seed(42)\n",
    "\n",
    "mlp = nn.Sequential(\n",
    "    nn.Linear(3, 10),\n",
    "    nn.Tanh(),\n",
    "    nn.Linear(10, 10),\n",
    "    nn.Tanh(),\n",
    "    nn.Linear(10, 1),\n",
    ")\n",
    "\n",
    "p1 = Problem([(0, 1), (-1, 1), (1, 2)], 10, mlp)\n",
    "p1.solve(10)"
   ]
  },
  {
   "cell_type": "code",
   "execution_count": 18,
   "id": "8bcefba9-6636-4f1e-b686-b40bd2d06970",
   "metadata": {
    "execution": {
     "iopub.execute_input": "2024-09-02T21:44:53.893215Z",
     "iopub.status.busy": "2024-09-02T21:44:53.892782Z",
     "iopub.status.idle": "2024-09-02T21:44:57.322077Z",
     "shell.execute_reply": "2024-09-02T21:44:57.321296Z",
     "shell.execute_reply.started": "2024-09-02T21:44:53.893183Z"
    }
   },
   "outputs": [
    {
     "name": "stderr",
     "output_type": "stream",
     "text": [
      "Loss: 2.00e+05: 100%|███████████████████████████████████████████████████████████████████████████████████████████████████| 10/10 [00:00<00:00, 52.53it/s]\n",
      "Loss: 4.17e+02: 100%|███████████████████████████████████████████████████████████████████████████████████████████████████| 10/10 [00:03<00:00,  3.13it/s]"
     ]
    },
    {
     "name": "stdout",
     "output_type": "stream",
     "text": [
      "0.07243856263208914\n"
     ]
    },
    {
     "name": "stderr",
     "output_type": "stream",
     "text": [
      "\n"
     ]
    }
   ],
   "source": [
    "class Problem(Volterra1D, Fractional):\n",
    "    def __init__(self, domain, num_train, model):\n",
    "        super().__init__(domain, num_train)\n",
    "        self.a, self.b = domain\n",
    "        self.model = model\n",
    "        self.kappa = 2\n",
    "        self.u0 = 0.1\n",
    "        self.K = torch.ones_like(self.T)\n",
    "        self.M = self.fracmatrix(0.5)\n",
    "\n",
    "    def residual(self):\n",
    "        y = self.predict(self.x)\n",
    "        y_x = self.diff(y, self.x, n=1)\n",
    "\n",
    "        u_t = self.predict_on_T()\n",
    "        zeta = u_t\n",
    "        I = self.quad(self.K * zeta, self.a, self.x)\n",
    "\n",
    "        initial = self.get_initial()\n",
    "        return [self.kappa * (self.M @ y) - y + y**2 + y * I, 1e1 * initial]\n",
    "\n",
    "    def get_initial(self):\n",
    "        zero = torch.tensor([[0.0]])\n",
    "        return self.predict(zero) - self.u0\n",
    "\n",
    "    def criteria(self):\n",
    "        x_test = torch.linspace(self.a, self.b, 10000).reshape(-1, 1)\n",
    "        predict = (self.predict(x_test)).detach()\n",
    "        x_test = x_test.detach().numpy()\n",
    "        predict = predict.detach().numpy()\n",
    "\n",
    "        u_max_pred = np.max(predict)\n",
    "        u_max_exact = 1 + self.kappa * np.log(self.kappa / (1 + self.kappa - self.u0))\n",
    "\n",
    "        return np.abs(u_max_exact - u_max_pred)\n",
    "\n",
    "\n",
    "set_seed(42)\n",
    "\n",
    "model = nn.Sequential(\n",
    "    nn.Linear(1, 10),\n",
    "    nn.Tanh(),\n",
    "    nn.Linear(10, 10),\n",
    "    nn.Tanh(),\n",
    "    nn.Linear(10, 1),\n",
    ")\n",
    "\n",
    "p2 = Problem((0, 5), 20, model)\n",
    "\n",
    "p2.solve(10, learning_rate=0.1)\n",
    "\n",
    "print(p2.criteria())"
   ]
  }
 ],
 "metadata": {
  "kernelspec": {
   "display_name": "Python 3 (ipykernel)",
   "language": "python",
   "name": "python3"
  },
  "language_info": {
   "codemirror_mode": {
    "name": "ipython",
    "version": 3
   },
   "file_extension": ".py",
   "mimetype": "text/x-python",
   "name": "python",
   "nbconvert_exporter": "python",
   "pygments_lexer": "ipython3",
   "version": "3.11.5"
  }
 },
 "nbformat": 4,
 "nbformat_minor": 5
}
